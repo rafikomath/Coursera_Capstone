{
    "cells": [
        {
            "cell_type": "markdown",
            "metadata": {
                "collapsed": true
            },
            "source": "# Introduction"
        },
        {
            "cell_type": "markdown",
            "metadata": {},
            "source": "### New York city is one of the business hub of the world. The city is home for hundreds of thousands from around the globe. It has been a center for business and economic growth of USA. New York is also the melting point of various cultures, dishes and cuisines.\n\n### people of the city come to have food and drinks for a cost and various entertainments depending on their cultural and other aspects. \n\n\n"
        },
        {
            "cell_type": "markdown",
            "metadata": {},
            "source": "# Our Problem"
        },
        {
            "cell_type": "markdown",
            "metadata": {},
            "source": "### we are planning to start a new Indian cuisine restaurant. We need to find a suitable New York City neighborhood where we can attract maximum customers. For this we have to consider some factors like population, presence of competitors, presence of other amenities which may favor our business, etc.\n"
        },
        {
            "cell_type": "markdown",
            "metadata": {},
            "source": "# Collecting Data"
        },
        {
            "cell_type": "markdown",
            "metadata": {},
            "source": "### We have to collect the required data from different sources like details of neighborhoods from government provide sites, the location of Indian restaurants from Foursquare."
        },
        {
            "cell_type": "markdown",
            "metadata": {},
            "source": "### we can use https://cocl.us/new_york_dataset for understanding the neighborhoods in New York City\n### and Foursquare for for locating Indian restaurants in various neighbourhoods."
        },
        {
            "cell_type": "code",
            "execution_count": null,
            "metadata": {},
            "outputs": [],
            "source": ""
        }
    ],
    "metadata": {
        "kernelspec": {
            "display_name": "Python 3.6",
            "language": "python",
            "name": "python3"
        },
        "language_info": {
            "codemirror_mode": {
                "name": "ipython",
                "version": 3
            },
            "file_extension": ".py",
            "mimetype": "text/x-python",
            "name": "python",
            "nbconvert_exporter": "python",
            "pygments_lexer": "ipython3",
            "version": "3.6.9"
        }
    },
    "nbformat": 4,
    "nbformat_minor": 1
}